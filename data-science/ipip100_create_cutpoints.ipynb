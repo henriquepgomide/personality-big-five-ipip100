{
 "cells": [
  {
   "cell_type": "markdown",
   "metadata": {},
   "source": [
    "# Estimate sample parameters to create BigFive cutpoints\n",
    "\n",
    "This highly experimental notebook aims to estimate the cutpoints for the Open Personality Inventory. At the end, it will store a json file used by the VueJS component."
   ]
  },
  {
   "cell_type": "code",
   "execution_count": 1,
   "metadata": {},
   "outputs": [],
   "source": [
    "import pandas as pd\n",
    "import seaborn as sns \n",
    "from pandas.io.json import json_normalize\n",
    "import os"
   ]
  },
  {
   "cell_type": "code",
   "execution_count": 2,
   "metadata": {},
   "outputs": [
    {
     "data": {
      "text/html": [
       "<div>\n",
       "<style scoped>\n",
       "    .dataframe tbody tr th:only-of-type {\n",
       "        vertical-align: middle;\n",
       "    }\n",
       "\n",
       "    .dataframe tbody tr th {\n",
       "        vertical-align: top;\n",
       "    }\n",
       "\n",
       "    .dataframe thead th {\n",
       "        text-align: right;\n",
       "    }\n",
       "</style>\n",
       "<table border=\"1\" class=\"dataframe\">\n",
       "  <thead>\n",
       "    <tr style=\"text-align: right;\">\n",
       "      <th></th>\n",
       "      <th>ipip100</th>\n",
       "    </tr>\n",
       "  </thead>\n",
       "  <tbody>\n",
       "    <tr>\n",
       "      <th>-LlnvcVn0ii9VTADDKpL</th>\n",
       "      <td>[{'factor': 1, 'label': 'Eu sou a alma da fest...</td>\n",
       "    </tr>\n",
       "    <tr>\n",
       "      <th>-LlqA981UaUuE8LK2EAR</th>\n",
       "      <td>[{'factor': 1, 'label': 'Eu sou a alma da fest...</td>\n",
       "    </tr>\n",
       "    <tr>\n",
       "      <th>-LlqAhDj2BLzX3d57eBJ</th>\n",
       "      <td>[{'factor': 1, 'label': 'Eu sou a alma da fest...</td>\n",
       "    </tr>\n",
       "    <tr>\n",
       "      <th>-LlqEmnsaFdTtPvEElKN</th>\n",
       "      <td>[{'factor': 1, 'label': 'Eu sou a alma da fest...</td>\n",
       "    </tr>\n",
       "    <tr>\n",
       "      <th>-LlqF-GXxQx6avvzIKi6</th>\n",
       "      <td>[{'factor': 1, 'label': 'Eu sou a alma da fest...</td>\n",
       "    </tr>\n",
       "  </tbody>\n",
       "</table>\n",
       "</div>"
      ],
      "text/plain": [
       "                                                                ipip100\n",
       "-LlnvcVn0ii9VTADDKpL  [{'factor': 1, 'label': 'Eu sou a alma da fest...\n",
       "-LlqA981UaUuE8LK2EAR  [{'factor': 1, 'label': 'Eu sou a alma da fest...\n",
       "-LlqAhDj2BLzX3d57eBJ  [{'factor': 1, 'label': 'Eu sou a alma da fest...\n",
       "-LlqEmnsaFdTtPvEElKN  [{'factor': 1, 'label': 'Eu sou a alma da fest...\n",
       "-LlqF-GXxQx6avvzIKi6  [{'factor': 1, 'label': 'Eu sou a alma da fest..."
      ]
     },
     "execution_count": 2,
     "metadata": {},
     "output_type": "execute_result"
    }
   ],
   "source": [
    "data = pd.read_json('db/open-bigfive-ipip100-export.json')\n",
    "data.head()"
   ]
  },
  {
   "cell_type": "code",
   "execution_count": 3,
   "metadata": {},
   "outputs": [],
   "source": [
    "my_list = data['ipip100'].tolist()"
   ]
  },
  {
   "cell_type": "code",
   "execution_count": 4,
   "metadata": {},
   "outputs": [
    {
     "data": {
      "text/html": [
       "<div>\n",
       "<style scoped>\n",
       "    .dataframe tbody tr th:only-of-type {\n",
       "        vertical-align: middle;\n",
       "    }\n",
       "\n",
       "    .dataframe tbody tr th {\n",
       "        vertical-align: top;\n",
       "    }\n",
       "\n",
       "    .dataframe thead th {\n",
       "        text-align: right;\n",
       "    }\n",
       "</style>\n",
       "<table border=\"1\" class=\"dataframe\">\n",
       "  <thead>\n",
       "    <tr style=\"text-align: right;\">\n",
       "      <th></th>\n",
       "      <th>factor</th>\n",
       "      <th>label</th>\n",
       "      <th>reversed</th>\n",
       "      <th>value</th>\n",
       "      <th>answer</th>\n",
       "    </tr>\n",
       "  </thead>\n",
       "  <tbody>\n",
       "    <tr>\n",
       "      <th>0</th>\n",
       "      <td>1</td>\n",
       "      <td>Eu sou a alma da festa.</td>\n",
       "      <td>True</td>\n",
       "      <td>4</td>\n",
       "      <td>4</td>\n",
       "    </tr>\n",
       "    <tr>\n",
       "      <th>1</th>\n",
       "      <td>2</td>\n",
       "      <td>Eu sou grosseiro(a) com as pessoas</td>\n",
       "      <td>False</td>\n",
       "      <td>4</td>\n",
       "      <td>4</td>\n",
       "    </tr>\n",
       "    <tr>\n",
       "      <th>2</th>\n",
       "      <td>3</td>\n",
       "      <td>Eu estou sempre pronto(a).</td>\n",
       "      <td>True</td>\n",
       "      <td>3</td>\n",
       "      <td>3</td>\n",
       "    </tr>\n",
       "    <tr>\n",
       "      <th>3</th>\n",
       "      <td>4</td>\n",
       "      <td>Eu me estresso facilmente.</td>\n",
       "      <td>False</td>\n",
       "      <td>0</td>\n",
       "      <td>0</td>\n",
       "    </tr>\n",
       "    <tr>\n",
       "      <th>4</th>\n",
       "      <td>5</td>\n",
       "      <td>Eu tenho um vocabulário rico.</td>\n",
       "      <td>True</td>\n",
       "      <td>0</td>\n",
       "      <td>0</td>\n",
       "    </tr>\n",
       "  </tbody>\n",
       "</table>\n",
       "</div>"
      ],
      "text/plain": [
       "   factor                               label  reversed value  answer\n",
       "0       1             Eu sou a alma da festa.      True     4       4\n",
       "1       2  Eu sou grosseiro(a) com as pessoas     False     4       4\n",
       "2       3          Eu estou sempre pronto(a).      True     3       3\n",
       "3       4          Eu me estresso facilmente.     False     0       0\n",
       "4       5       Eu tenho um vocabulário rico.      True     0       0"
      ]
     },
     "execution_count": 4,
     "metadata": {},
     "output_type": "execute_result"
    }
   ],
   "source": [
    "subject = json_normalize(my_list[41])\n",
    "subject['answer'] = pd.to_numeric(subject['value'])\n",
    "subject.head()"
   ]
  },
  {
   "cell_type": "code",
   "execution_count": 5,
   "metadata": {},
   "outputs": [
    {
     "data": {
      "text/html": [
       "<div>\n",
       "<style scoped>\n",
       "    .dataframe tbody tr th:only-of-type {\n",
       "        vertical-align: middle;\n",
       "    }\n",
       "\n",
       "    .dataframe tbody tr th {\n",
       "        vertical-align: top;\n",
       "    }\n",
       "\n",
       "    .dataframe thead th {\n",
       "        text-align: right;\n",
       "    }\n",
       "</style>\n",
       "<table border=\"1\" class=\"dataframe\">\n",
       "  <thead>\n",
       "    <tr style=\"text-align: right;\">\n",
       "      <th></th>\n",
       "      <th>answer</th>\n",
       "    </tr>\n",
       "    <tr>\n",
       "      <th>factor</th>\n",
       "      <th></th>\n",
       "    </tr>\n",
       "  </thead>\n",
       "  <tbody>\n",
       "    <tr>\n",
       "      <th>1</th>\n",
       "      <td>4</td>\n",
       "    </tr>\n",
       "    <tr>\n",
       "      <th>2</th>\n",
       "      <td>4</td>\n",
       "    </tr>\n",
       "    <tr>\n",
       "      <th>3</th>\n",
       "      <td>3</td>\n",
       "    </tr>\n",
       "    <tr>\n",
       "      <th>4</th>\n",
       "      <td>0</td>\n",
       "    </tr>\n",
       "    <tr>\n",
       "      <th>5</th>\n",
       "      <td>0</td>\n",
       "    </tr>\n",
       "  </tbody>\n",
       "</table>\n",
       "</div>"
      ],
      "text/plain": [
       "        answer\n",
       "factor        \n",
       "1            4\n",
       "2            4\n",
       "3            3\n",
       "4            0\n",
       "5            0"
      ]
     },
     "execution_count": 5,
     "metadata": {},
     "output_type": "execute_result"
    }
   ],
   "source": [
    "subject.groupby(by='factor')[['answer']].sum()"
   ]
  },
  {
   "cell_type": "code",
   "execution_count": 6,
   "metadata": {},
   "outputs": [],
   "source": [
    "results = []\n",
    "factor_one, factor_two, factor_three, factor_four, factor_five = [], [], [], [], []\n",
    "for i in range(len(my_list)):\n",
    "    subject = json_normalize(my_list[i])\n",
    "    subject['answer'] = pd.to_numeric(subject['value'])\n",
    "    result = subject.groupby(by='factor')[['answer']].sum()\n",
    "    results.append(result)\n",
    "\n",
    "for i in range(len(results)):\n",
    "    factor_one.append(results[i]['answer'][1])\n",
    "    factor_two.append(results[i]['answer'][2])\n",
    "    factor_three.append(results[i]['answer'][3])\n",
    "    factor_four.append(results[i]['answer'][4])\n",
    "    factor_five.append(results[i]['answer'][5])"
   ]
  },
  {
   "cell_type": "code",
   "execution_count": 7,
   "metadata": {},
   "outputs": [
    {
     "data": {
      "text/html": [
       "<div>\n",
       "<style scoped>\n",
       "    .dataframe tbody tr th:only-of-type {\n",
       "        vertical-align: middle;\n",
       "    }\n",
       "\n",
       "    .dataframe tbody tr th {\n",
       "        vertical-align: top;\n",
       "    }\n",
       "\n",
       "    .dataframe thead th {\n",
       "        text-align: right;\n",
       "    }\n",
       "</style>\n",
       "<table border=\"1\" class=\"dataframe\">\n",
       "  <thead>\n",
       "    <tr style=\"text-align: right;\">\n",
       "      <th></th>\n",
       "      <th>f_one</th>\n",
       "      <th>f_two</th>\n",
       "      <th>f_three</th>\n",
       "      <th>f_four</th>\n",
       "      <th>f_five</th>\n",
       "    </tr>\n",
       "  </thead>\n",
       "  <tbody>\n",
       "    <tr>\n",
       "      <th>152</th>\n",
       "      <td>48</td>\n",
       "      <td>69</td>\n",
       "      <td>63</td>\n",
       "      <td>69</td>\n",
       "      <td>73</td>\n",
       "    </tr>\n",
       "    <tr>\n",
       "      <th>153</th>\n",
       "      <td>39</td>\n",
       "      <td>86</td>\n",
       "      <td>86</td>\n",
       "      <td>73</td>\n",
       "      <td>68</td>\n",
       "    </tr>\n",
       "    <tr>\n",
       "      <th>154</th>\n",
       "      <td>2</td>\n",
       "      <td>0</td>\n",
       "      <td>0</td>\n",
       "      <td>0</td>\n",
       "      <td>0</td>\n",
       "    </tr>\n",
       "    <tr>\n",
       "      <th>155</th>\n",
       "      <td>3</td>\n",
       "      <td>0</td>\n",
       "      <td>0</td>\n",
       "      <td>0</td>\n",
       "      <td>0</td>\n",
       "    </tr>\n",
       "    <tr>\n",
       "      <th>156</th>\n",
       "      <td>2</td>\n",
       "      <td>0</td>\n",
       "      <td>0</td>\n",
       "      <td>0</td>\n",
       "      <td>0</td>\n",
       "    </tr>\n",
       "  </tbody>\n",
       "</table>\n",
       "</div>"
      ],
      "text/plain": [
       "     f_one  f_two  f_three  f_four  f_five\n",
       "152     48     69       63      69      73\n",
       "153     39     86       86      73      68\n",
       "154      2      0        0       0       0\n",
       "155      3      0        0       0       0\n",
       "156      2      0        0       0       0"
      ]
     },
     "execution_count": 7,
     "metadata": {},
     "output_type": "execute_result"
    }
   ],
   "source": [
    "data_dictionary = {'f_one': factor_one, \n",
    "                   'f_two': factor_two,\n",
    "                   'f_three': factor_three,\n",
    "                   'f_four': factor_four,\n",
    "                   'f_five': factor_five}\n",
    "\n",
    "df = pd.DataFrame(data_dictionary)\n",
    "df.tail()"
   ]
  },
  {
   "cell_type": "code",
   "execution_count": 8,
   "metadata": {},
   "outputs": [
    {
     "data": {
      "text/html": [
       "<div>\n",
       "<style scoped>\n",
       "    .dataframe tbody tr th:only-of-type {\n",
       "        vertical-align: middle;\n",
       "    }\n",
       "\n",
       "    .dataframe tbody tr th {\n",
       "        vertical-align: top;\n",
       "    }\n",
       "\n",
       "    .dataframe thead th {\n",
       "        text-align: right;\n",
       "    }\n",
       "</style>\n",
       "<table border=\"1\" class=\"dataframe\">\n",
       "  <thead>\n",
       "    <tr style=\"text-align: right;\">\n",
       "      <th></th>\n",
       "      <th>f_one</th>\n",
       "      <th>f_two</th>\n",
       "      <th>f_three</th>\n",
       "      <th>f_four</th>\n",
       "      <th>f_five</th>\n",
       "    </tr>\n",
       "  </thead>\n",
       "  <tbody>\n",
       "    <tr>\n",
       "      <th>count</th>\n",
       "      <td>157.000000</td>\n",
       "      <td>157.000000</td>\n",
       "      <td>157.000000</td>\n",
       "      <td>157.000000</td>\n",
       "      <td>157.000000</td>\n",
       "    </tr>\n",
       "    <tr>\n",
       "      <th>mean</th>\n",
       "      <td>36.987261</td>\n",
       "      <td>45.566879</td>\n",
       "      <td>40.834395</td>\n",
       "      <td>33.025478</td>\n",
       "      <td>40.993631</td>\n",
       "    </tr>\n",
       "    <tr>\n",
       "      <th>std</th>\n",
       "      <td>31.668756</td>\n",
       "      <td>38.496133</td>\n",
       "      <td>35.426675</td>\n",
       "      <td>30.636192</td>\n",
       "      <td>33.446762</td>\n",
       "    </tr>\n",
       "    <tr>\n",
       "      <th>min</th>\n",
       "      <td>0.000000</td>\n",
       "      <td>0.000000</td>\n",
       "      <td>0.000000</td>\n",
       "      <td>0.000000</td>\n",
       "      <td>0.000000</td>\n",
       "    </tr>\n",
       "    <tr>\n",
       "      <th>25%</th>\n",
       "      <td>3.000000</td>\n",
       "      <td>2.000000</td>\n",
       "      <td>0.000000</td>\n",
       "      <td>0.000000</td>\n",
       "      <td>3.000000</td>\n",
       "    </tr>\n",
       "    <tr>\n",
       "      <th>50%</th>\n",
       "      <td>39.000000</td>\n",
       "      <td>66.000000</td>\n",
       "      <td>54.000000</td>\n",
       "      <td>35.000000</td>\n",
       "      <td>57.000000</td>\n",
       "    </tr>\n",
       "    <tr>\n",
       "      <th>75%</th>\n",
       "      <td>64.000000</td>\n",
       "      <td>80.000000</td>\n",
       "      <td>73.000000</td>\n",
       "      <td>61.000000</td>\n",
       "      <td>71.000000</td>\n",
       "    </tr>\n",
       "    <tr>\n",
       "      <th>max</th>\n",
       "      <td>98.000000</td>\n",
       "      <td>97.000000</td>\n",
       "      <td>97.000000</td>\n",
       "      <td>92.000000</td>\n",
       "      <td>92.000000</td>\n",
       "    </tr>\n",
       "  </tbody>\n",
       "</table>\n",
       "</div>"
      ],
      "text/plain": [
       "            f_one       f_two     f_three      f_four      f_five\n",
       "count  157.000000  157.000000  157.000000  157.000000  157.000000\n",
       "mean    36.987261   45.566879   40.834395   33.025478   40.993631\n",
       "std     31.668756   38.496133   35.426675   30.636192   33.446762\n",
       "min      0.000000    0.000000    0.000000    0.000000    0.000000\n",
       "25%      3.000000    2.000000    0.000000    0.000000    3.000000\n",
       "50%     39.000000   66.000000   54.000000   35.000000   57.000000\n",
       "75%     64.000000   80.000000   73.000000   61.000000   71.000000\n",
       "max     98.000000   97.000000   97.000000   92.000000   92.000000"
      ]
     },
     "execution_count": 8,
     "metadata": {},
     "output_type": "execute_result"
    }
   ],
   "source": [
    "df.describe()"
   ]
  },
  {
   "cell_type": "code",
   "execution_count": 9,
   "metadata": {},
   "outputs": [
    {
     "data": {
      "text/html": [
       "<div>\n",
       "<style scoped>\n",
       "    .dataframe tbody tr th:only-of-type {\n",
       "        vertical-align: middle;\n",
       "    }\n",
       "\n",
       "    .dataframe tbody tr th {\n",
       "        vertical-align: top;\n",
       "    }\n",
       "\n",
       "    .dataframe thead th {\n",
       "        text-align: right;\n",
       "    }\n",
       "</style>\n",
       "<table border=\"1\" class=\"dataframe\">\n",
       "  <thead>\n",
       "    <tr style=\"text-align: right;\">\n",
       "      <th></th>\n",
       "      <th>f_one</th>\n",
       "      <th>f_two</th>\n",
       "      <th>f_three</th>\n",
       "      <th>f_four</th>\n",
       "      <th>f_five</th>\n",
       "    </tr>\n",
       "  </thead>\n",
       "  <tbody>\n",
       "    <tr>\n",
       "      <th>count</th>\n",
       "      <td>92.000000</td>\n",
       "      <td>92.000000</td>\n",
       "      <td>92.000000</td>\n",
       "      <td>92.000000</td>\n",
       "      <td>92.000000</td>\n",
       "    </tr>\n",
       "    <tr>\n",
       "      <th>mean</th>\n",
       "      <td>61.434783</td>\n",
       "      <td>76.804348</td>\n",
       "      <td>69.065217</td>\n",
       "      <td>55.576087</td>\n",
       "      <td>68.250000</td>\n",
       "    </tr>\n",
       "    <tr>\n",
       "      <th>std</th>\n",
       "      <td>16.000896</td>\n",
       "      <td>12.480525</td>\n",
       "      <td>14.275010</td>\n",
       "      <td>19.104820</td>\n",
       "      <td>10.030311</td>\n",
       "    </tr>\n",
       "    <tr>\n",
       "      <th>min</th>\n",
       "      <td>25.000000</td>\n",
       "      <td>33.000000</td>\n",
       "      <td>26.000000</td>\n",
       "      <td>20.000000</td>\n",
       "      <td>42.000000</td>\n",
       "    </tr>\n",
       "    <tr>\n",
       "      <th>25%</th>\n",
       "      <td>50.000000</td>\n",
       "      <td>72.000000</td>\n",
       "      <td>60.000000</td>\n",
       "      <td>41.000000</td>\n",
       "      <td>61.000000</td>\n",
       "    </tr>\n",
       "    <tr>\n",
       "      <th>50%</th>\n",
       "      <td>62.500000</td>\n",
       "      <td>79.000000</td>\n",
       "      <td>70.500000</td>\n",
       "      <td>55.000000</td>\n",
       "      <td>70.000000</td>\n",
       "    </tr>\n",
       "    <tr>\n",
       "      <th>75%</th>\n",
       "      <td>72.250000</td>\n",
       "      <td>85.250000</td>\n",
       "      <td>79.000000</td>\n",
       "      <td>73.250000</td>\n",
       "      <td>74.250000</td>\n",
       "    </tr>\n",
       "    <tr>\n",
       "      <th>max</th>\n",
       "      <td>98.000000</td>\n",
       "      <td>97.000000</td>\n",
       "      <td>97.000000</td>\n",
       "      <td>92.000000</td>\n",
       "      <td>92.000000</td>\n",
       "    </tr>\n",
       "  </tbody>\n",
       "</table>\n",
       "</div>"
      ],
      "text/plain": [
       "           f_one      f_two    f_three     f_four     f_five\n",
       "count  92.000000  92.000000  92.000000  92.000000  92.000000\n",
       "mean   61.434783  76.804348  69.065217  55.576087  68.250000\n",
       "std    16.000896  12.480525  14.275010  19.104820  10.030311\n",
       "min    25.000000  33.000000  26.000000  20.000000  42.000000\n",
       "25%    50.000000  72.000000  60.000000  41.000000  61.000000\n",
       "50%    62.500000  79.000000  70.500000  55.000000  70.000000\n",
       "75%    72.250000  85.250000  79.000000  73.250000  74.250000\n",
       "max    98.000000  97.000000  97.000000  92.000000  92.000000"
      ]
     },
     "execution_count": 9,
     "metadata": {},
     "output_type": "execute_result"
    }
   ],
   "source": [
    "# Filter out test cases\n",
    "df = df[df.f_one > 20 ]\n",
    "df.describe()"
   ]
  },
  {
   "cell_type": "code",
   "execution_count": 10,
   "metadata": {},
   "outputs": [
    {
     "data": {
      "text/plain": [
       "<matplotlib.axes._subplots.AxesSubplot at 0x7f3a28d4d3c8>"
      ]
     },
     "execution_count": 10,
     "metadata": {},
     "output_type": "execute_result"
    },
    {
     "data": {
      "image/png": "[encoded data removed]",
      "text/plain": [
       "<Figure size 432x288 with 1 Axes>"
      ]
     },
     "metadata": {
      "needs_background": "light"
     },
     "output_type": "display_data"
    }
   ],
   "source": [
    "# Plotar Histogramas\n",
    "sns.distplot(df['f_three'])"
   ]
  },
  {
   "cell_type": "code",
   "execution_count": 11,
   "metadata": {},
   "outputs": [],
   "source": [
    "def half_sd(x):\n",
    "    return { 'lower': round(x.mean() - x.std()/2, 1),\n",
    "             'mean' : round(x.mean(),1),\n",
    "             'upper': round(x.mean() + x.std()/2, 1)}\n",
    "\n",
    "data_to_ipip100 = df[['f_one', 'f_two', 'f_three', 'f_four', 'f_five']].apply(half_sd)"
   ]
  },
  {
   "cell_type": "code",
   "execution_count": 12,
   "metadata": {},
   "outputs": [],
   "source": [
    "data_to_ipip100.to_json(r'src/assets/sample_features.json')"
   ]
  },
  {
   "cell_type": "code",
   "execution_count": 13,
   "metadata": {},
   "outputs": [
    {
     "data": {
      "text/plain": [
       "'/home/henrique/github_repos/personality-big-five-ipip100'"
      ]
     },
     "execution_count": 13,
     "metadata": {},
     "output_type": "execute_result"
    }
   ],
   "source": [
    "os.getcwd()"
   ]
  },
  {
   "cell_type": "code",
   "execution_count": null,
   "metadata": {},
   "outputs": [],
   "source": []
  }
 ],
 "metadata": {
  "kernelspec": {
   "display_name": "Python 3",
   "language": "python",
   "name": "python3"
  },
  "language_info": {
   "codemirror_mode": {
    "name": "ipython",
    "version": 3
   },
   "file_extension": ".py",
   "mimetype": "text/x-python",
   "name": "python",
   "nbconvert_exporter": "python",
   "pygments_lexer": "ipython3",
   "version": "3.6.8"
  }
 },
 "nbformat": 4,
 "nbformat_minor": 4
}
